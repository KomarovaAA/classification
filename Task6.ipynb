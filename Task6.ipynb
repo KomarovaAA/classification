{
  "nbformat": 4,
  "nbformat_minor": 0,
  "metadata": {
    "accelerator": "GPU",
    "colab": {
      "name": "Task6.ipynb",
      "provenance": []
    },
    "kernelspec": {
      "display_name": "Python 3",
      "name": "python3"
    },
    "widgets": {
      "application/vnd.jupyter.widget-state+json": {
        "a7ab279b55db4f3aa3e09238305d8bde": {
          "model_module": "@jupyter-widgets/controls",
          "model_name": "HBoxModel",
          "state": {
            "_view_name": "HBoxView",
            "_dom_classes": [],
            "_model_name": "HBoxModel",
            "_view_module": "@jupyter-widgets/controls",
            "_model_module_version": "1.5.0",
            "_view_count": null,
            "_view_module_version": "1.5.0",
            "box_style": "",
            "layout": "IPY_MODEL_b7a29f8b10cd4c0187cbe6a919d843a6",
            "_model_module": "@jupyter-widgets/controls",
            "children": [
              "IPY_MODEL_83b6e787d5a54e5aa2b101b130e6c4a3",
              "IPY_MODEL_d753da7a30d34ee1a2b8dc422c772e96"
            ]
          }
        },
        "b7a29f8b10cd4c0187cbe6a919d843a6": {
          "model_module": "@jupyter-widgets/base",
          "model_name": "LayoutModel",
          "state": {
            "_view_name": "LayoutView",
            "grid_template_rows": null,
            "right": null,
            "justify_content": null,
            "_view_module": "@jupyter-widgets/base",
            "overflow": null,
            "_model_module_version": "1.2.0",
            "_view_count": null,
            "flex_flow": null,
            "width": null,
            "min_width": null,
            "border": null,
            "align_items": null,
            "bottom": null,
            "_model_module": "@jupyter-widgets/base",
            "top": null,
            "grid_column": null,
            "overflow_y": null,
            "overflow_x": null,
            "grid_auto_flow": null,
            "grid_area": null,
            "grid_template_columns": null,
            "flex": null,
            "_model_name": "LayoutModel",
            "justify_items": null,
            "grid_row": null,
            "max_height": null,
            "align_content": null,
            "visibility": null,
            "align_self": null,
            "height": null,
            "min_height": null,
            "padding": null,
            "grid_auto_rows": null,
            "grid_gap": null,
            "max_width": null,
            "order": null,
            "_view_module_version": "1.2.0",
            "grid_template_areas": null,
            "object_position": null,
            "object_fit": null,
            "grid_auto_columns": null,
            "margin": null,
            "display": null,
            "left": null
          }
        },
        "83b6e787d5a54e5aa2b101b130e6c4a3": {
          "model_module": "@jupyter-widgets/controls",
          "model_name": "FloatProgressModel",
          "state": {
            "_view_name": "ProgressView",
            "style": "IPY_MODEL_0a2a556e6910442eb0ee32ab786ee589",
            "_dom_classes": [],
            "description": "100%",
            "_model_name": "FloatProgressModel",
            "bar_style": "success",
            "max": 15000,
            "_view_module": "@jupyter-widgets/controls",
            "_model_module_version": "1.5.0",
            "value": 15000,
            "_view_count": null,
            "_view_module_version": "1.5.0",
            "orientation": "horizontal",
            "min": 0,
            "description_tooltip": null,
            "_model_module": "@jupyter-widgets/controls",
            "layout": "IPY_MODEL_a13454b13c664da2858d784eb16c0f57"
          }
        },
        "d753da7a30d34ee1a2b8dc422c772e96": {
          "model_module": "@jupyter-widgets/controls",
          "model_name": "HTMLModel",
          "state": {
            "_view_name": "HTMLView",
            "style": "IPY_MODEL_417783391b64441b8900794983c7a9d6",
            "_dom_classes": [],
            "description": "",
            "_model_name": "HTMLModel",
            "placeholder": "​",
            "_view_module": "@jupyter-widgets/controls",
            "_model_module_version": "1.5.0",
            "value": " 15000/15000 [11:34&lt;00:00, 21.59it/s]",
            "_view_count": null,
            "_view_module_version": "1.5.0",
            "description_tooltip": null,
            "_model_module": "@jupyter-widgets/controls",
            "layout": "IPY_MODEL_67aa2d3b4f60405f98490f21778df88d"
          }
        },
        "0a2a556e6910442eb0ee32ab786ee589": {
          "model_module": "@jupyter-widgets/controls",
          "model_name": "ProgressStyleModel",
          "state": {
            "_view_name": "StyleView",
            "_model_name": "ProgressStyleModel",
            "description_width": "initial",
            "_view_module": "@jupyter-widgets/base",
            "_model_module_version": "1.5.0",
            "_view_count": null,
            "_view_module_version": "1.2.0",
            "bar_color": null,
            "_model_module": "@jupyter-widgets/controls"
          }
        },
        "a13454b13c664da2858d784eb16c0f57": {
          "model_module": "@jupyter-widgets/base",
          "model_name": "LayoutModel",
          "state": {
            "_view_name": "LayoutView",
            "grid_template_rows": null,
            "right": null,
            "justify_content": null,
            "_view_module": "@jupyter-widgets/base",
            "overflow": null,
            "_model_module_version": "1.2.0",
            "_view_count": null,
            "flex_flow": null,
            "width": null,
            "min_width": null,
            "border": null,
            "align_items": null,
            "bottom": null,
            "_model_module": "@jupyter-widgets/base",
            "top": null,
            "grid_column": null,
            "overflow_y": null,
            "overflow_x": null,
            "grid_auto_flow": null,
            "grid_area": null,
            "grid_template_columns": null,
            "flex": null,
            "_model_name": "LayoutModel",
            "justify_items": null,
            "grid_row": null,
            "max_height": null,
            "align_content": null,
            "visibility": null,
            "align_self": null,
            "height": null,
            "min_height": null,
            "padding": null,
            "grid_auto_rows": null,
            "grid_gap": null,
            "max_width": null,
            "order": null,
            "_view_module_version": "1.2.0",
            "grid_template_areas": null,
            "object_position": null,
            "object_fit": null,
            "grid_auto_columns": null,
            "margin": null,
            "display": null,
            "left": null
          }
        },
        "417783391b64441b8900794983c7a9d6": {
          "model_module": "@jupyter-widgets/controls",
          "model_name": "DescriptionStyleModel",
          "state": {
            "_view_name": "StyleView",
            "_model_name": "DescriptionStyleModel",
            "description_width": "",
            "_view_module": "@jupyter-widgets/base",
            "_model_module_version": "1.5.0",
            "_view_count": null,
            "_view_module_version": "1.2.0",
            "_model_module": "@jupyter-widgets/controls"
          }
        },
        "67aa2d3b4f60405f98490f21778df88d": {
          "model_module": "@jupyter-widgets/base",
          "model_name": "LayoutModel",
          "state": {
            "_view_name": "LayoutView",
            "grid_template_rows": null,
            "right": null,
            "justify_content": null,
            "_view_module": "@jupyter-widgets/base",
            "overflow": null,
            "_model_module_version": "1.2.0",
            "_view_count": null,
            "flex_flow": null,
            "width": null,
            "min_width": null,
            "border": null,
            "align_items": null,
            "bottom": null,
            "_model_module": "@jupyter-widgets/base",
            "top": null,
            "grid_column": null,
            "overflow_y": null,
            "overflow_x": null,
            "grid_auto_flow": null,
            "grid_area": null,
            "grid_template_columns": null,
            "flex": null,
            "_model_name": "LayoutModel",
            "justify_items": null,
            "grid_row": null,
            "max_height": null,
            "align_content": null,
            "visibility": null,
            "align_self": null,
            "height": null,
            "min_height": null,
            "padding": null,
            "grid_auto_rows": null,
            "grid_gap": null,
            "max_width": null,
            "order": null,
            "_view_module_version": "1.2.0",
            "grid_template_areas": null,
            "object_position": null,
            "object_fit": null,
            "grid_auto_columns": null,
            "margin": null,
            "display": null,
            "left": null
          }
        },
        "47c84ebcc7914973aef0f452aa0191d8": {
          "model_module": "@jupyter-widgets/controls",
          "model_name": "HBoxModel",
          "state": {
            "_view_name": "HBoxView",
            "_dom_classes": [],
            "_model_name": "HBoxModel",
            "_view_module": "@jupyter-widgets/controls",
            "_model_module_version": "1.5.0",
            "_view_count": null,
            "_view_module_version": "1.5.0",
            "box_style": "",
            "layout": "IPY_MODEL_2149f18b09f14283838323afbb603659",
            "_model_module": "@jupyter-widgets/controls",
            "children": [
              "IPY_MODEL_30ce60c99ce048c3aa21e9ecbe5b730d",
              "IPY_MODEL_7169499b7d9743dcba95c32d1aa59fa1"
            ]
          }
        },
        "2149f18b09f14283838323afbb603659": {
          "model_module": "@jupyter-widgets/base",
          "model_name": "LayoutModel",
          "state": {
            "_view_name": "LayoutView",
            "grid_template_rows": null,
            "right": null,
            "justify_content": null,
            "_view_module": "@jupyter-widgets/base",
            "overflow": null,
            "_model_module_version": "1.2.0",
            "_view_count": null,
            "flex_flow": null,
            "width": null,
            "min_width": null,
            "border": null,
            "align_items": null,
            "bottom": null,
            "_model_module": "@jupyter-widgets/base",
            "top": null,
            "grid_column": null,
            "overflow_y": null,
            "overflow_x": null,
            "grid_auto_flow": null,
            "grid_area": null,
            "grid_template_columns": null,
            "flex": null,
            "_model_name": "LayoutModel",
            "justify_items": null,
            "grid_row": null,
            "max_height": null,
            "align_content": null,
            "visibility": null,
            "align_self": null,
            "height": null,
            "min_height": null,
            "padding": null,
            "grid_auto_rows": null,
            "grid_gap": null,
            "max_width": null,
            "order": null,
            "_view_module_version": "1.2.0",
            "grid_template_areas": null,
            "object_position": null,
            "object_fit": null,
            "grid_auto_columns": null,
            "margin": null,
            "display": null,
            "left": null
          }
        },
        "30ce60c99ce048c3aa21e9ecbe5b730d": {
          "model_module": "@jupyter-widgets/controls",
          "model_name": "FloatProgressModel",
          "state": {
            "_view_name": "ProgressView",
            "style": "IPY_MODEL_6f162fab4aff43ce9006834cb0c6baa7",
            "_dom_classes": [],
            "description": "100%",
            "_model_name": "FloatProgressModel",
            "bar_style": "success",
            "max": 3000,
            "_view_module": "@jupyter-widgets/controls",
            "_model_module_version": "1.5.0",
            "value": 3000,
            "_view_count": null,
            "_view_module_version": "1.5.0",
            "orientation": "horizontal",
            "min": 0,
            "description_tooltip": null,
            "_model_module": "@jupyter-widgets/controls",
            "layout": "IPY_MODEL_2ff763015a524e64bed50c5ed027d17d"
          }
        },
        "7169499b7d9743dcba95c32d1aa59fa1": {
          "model_module": "@jupyter-widgets/controls",
          "model_name": "HTMLModel",
          "state": {
            "_view_name": "HTMLView",
            "style": "IPY_MODEL_dd68485b8d834a9db4b925abe7260832",
            "_dom_classes": [],
            "description": "",
            "_model_name": "HTMLModel",
            "placeholder": "​",
            "_view_module": "@jupyter-widgets/controls",
            "_model_module_version": "1.5.0",
            "value": " 3000/3000 [09:13&lt;00:00,  5.42it/s]",
            "_view_count": null,
            "_view_module_version": "1.5.0",
            "description_tooltip": null,
            "_model_module": "@jupyter-widgets/controls",
            "layout": "IPY_MODEL_86f0585a49c642a2a1117277b028199d"
          }
        },
        "6f162fab4aff43ce9006834cb0c6baa7": {
          "model_module": "@jupyter-widgets/controls",
          "model_name": "ProgressStyleModel",
          "state": {
            "_view_name": "StyleView",
            "_model_name": "ProgressStyleModel",
            "description_width": "initial",
            "_view_module": "@jupyter-widgets/base",
            "_model_module_version": "1.5.0",
            "_view_count": null,
            "_view_module_version": "1.2.0",
            "bar_color": null,
            "_model_module": "@jupyter-widgets/controls"
          }
        },
        "2ff763015a524e64bed50c5ed027d17d": {
          "model_module": "@jupyter-widgets/base",
          "model_name": "LayoutModel",
          "state": {
            "_view_name": "LayoutView",
            "grid_template_rows": null,
            "right": null,
            "justify_content": null,
            "_view_module": "@jupyter-widgets/base",
            "overflow": null,
            "_model_module_version": "1.2.0",
            "_view_count": null,
            "flex_flow": null,
            "width": null,
            "min_width": null,
            "border": null,
            "align_items": null,
            "bottom": null,
            "_model_module": "@jupyter-widgets/base",
            "top": null,
            "grid_column": null,
            "overflow_y": null,
            "overflow_x": null,
            "grid_auto_flow": null,
            "grid_area": null,
            "grid_template_columns": null,
            "flex": null,
            "_model_name": "LayoutModel",
            "justify_items": null,
            "grid_row": null,
            "max_height": null,
            "align_content": null,
            "visibility": null,
            "align_self": null,
            "height": null,
            "min_height": null,
            "padding": null,
            "grid_auto_rows": null,
            "grid_gap": null,
            "max_width": null,
            "order": null,
            "_view_module_version": "1.2.0",
            "grid_template_areas": null,
            "object_position": null,
            "object_fit": null,
            "grid_auto_columns": null,
            "margin": null,
            "display": null,
            "left": null
          }
        },
        "dd68485b8d834a9db4b925abe7260832": {
          "model_module": "@jupyter-widgets/controls",
          "model_name": "DescriptionStyleModel",
          "state": {
            "_view_name": "StyleView",
            "_model_name": "DescriptionStyleModel",
            "description_width": "",
            "_view_module": "@jupyter-widgets/base",
            "_model_module_version": "1.5.0",
            "_view_count": null,
            "_view_module_version": "1.2.0",
            "_model_module": "@jupyter-widgets/controls"
          }
        },
        "86f0585a49c642a2a1117277b028199d": {
          "model_module": "@jupyter-widgets/base",
          "model_name": "LayoutModel",
          "state": {
            "_view_name": "LayoutView",
            "grid_template_rows": null,
            "right": null,
            "justify_content": null,
            "_view_module": "@jupyter-widgets/base",
            "overflow": null,
            "_model_module_version": "1.2.0",
            "_view_count": null,
            "flex_flow": null,
            "width": null,
            "min_width": null,
            "border": null,
            "align_items": null,
            "bottom": null,
            "_model_module": "@jupyter-widgets/base",
            "top": null,
            "grid_column": null,
            "overflow_y": null,
            "overflow_x": null,
            "grid_auto_flow": null,
            "grid_area": null,
            "grid_template_columns": null,
            "flex": null,
            "_model_name": "LayoutModel",
            "justify_items": null,
            "grid_row": null,
            "max_height": null,
            "align_content": null,
            "visibility": null,
            "align_self": null,
            "height": null,
            "min_height": null,
            "padding": null,
            "grid_auto_rows": null,
            "grid_gap": null,
            "max_width": null,
            "order": null,
            "_view_module_version": "1.2.0",
            "grid_template_areas": null,
            "object_position": null,
            "object_fit": null,
            "grid_auto_columns": null,
            "margin": null,
            "display": null,
            "left": null
          }
        },
        "9c1c7635328049ebb648701f5f1312a6": {
          "model_module": "@jupyter-widgets/controls",
          "model_name": "HBoxModel",
          "state": {
            "_view_name": "HBoxView",
            "_dom_classes": [],
            "_model_name": "HBoxModel",
            "_view_module": "@jupyter-widgets/controls",
            "_model_module_version": "1.5.0",
            "_view_count": null,
            "_view_module_version": "1.5.0",
            "box_style": "",
            "layout": "IPY_MODEL_656c389209024f408a4df17b67f6d8e2",
            "_model_module": "@jupyter-widgets/controls",
            "children": [
              "IPY_MODEL_f95720aaa1364bc8aae58fcfa4f9e947",
              "IPY_MODEL_0c93825061474b4093f5204375e98d26"
            ]
          }
        },
        "656c389209024f408a4df17b67f6d8e2": {
          "model_module": "@jupyter-widgets/base",
          "model_name": "LayoutModel",
          "state": {
            "_view_name": "LayoutView",
            "grid_template_rows": null,
            "right": null,
            "justify_content": null,
            "_view_module": "@jupyter-widgets/base",
            "overflow": null,
            "_model_module_version": "1.2.0",
            "_view_count": null,
            "flex_flow": null,
            "width": null,
            "min_width": null,
            "border": null,
            "align_items": null,
            "bottom": null,
            "_model_module": "@jupyter-widgets/base",
            "top": null,
            "grid_column": null,
            "overflow_y": null,
            "overflow_x": null,
            "grid_auto_flow": null,
            "grid_area": null,
            "grid_template_columns": null,
            "flex": null,
            "_model_name": "LayoutModel",
            "justify_items": null,
            "grid_row": null,
            "max_height": null,
            "align_content": null,
            "visibility": null,
            "align_self": null,
            "height": null,
            "min_height": null,
            "padding": null,
            "grid_auto_rows": null,
            "grid_gap": null,
            "max_width": null,
            "order": null,
            "_view_module_version": "1.2.0",
            "grid_template_areas": null,
            "object_position": null,
            "object_fit": null,
            "grid_auto_columns": null,
            "margin": null,
            "display": null,
            "left": null
          }
        },
        "f95720aaa1364bc8aae58fcfa4f9e947": {
          "model_module": "@jupyter-widgets/controls",
          "model_name": "FloatProgressModel",
          "state": {
            "_view_name": "ProgressView",
            "style": "IPY_MODEL_f515665f0e91482b832775573df10213",
            "_dom_classes": [],
            "description": "100%",
            "_model_name": "FloatProgressModel",
            "bar_style": "success",
            "max": 15000,
            "_view_module": "@jupyter-widgets/controls",
            "_model_module_version": "1.5.0",
            "value": 15000,
            "_view_count": null,
            "_view_module_version": "1.5.0",
            "orientation": "horizontal",
            "min": 0,
            "description_tooltip": null,
            "_model_module": "@jupyter-widgets/controls",
            "layout": "IPY_MODEL_9e04cfa637e64d45a69b968178c31088"
          }
        },
        "0c93825061474b4093f5204375e98d26": {
          "model_module": "@jupyter-widgets/controls",
          "model_name": "HTMLModel",
          "state": {
            "_view_name": "HTMLView",
            "style": "IPY_MODEL_c313f1aa4fe642ebb5339f888d33e71b",
            "_dom_classes": [],
            "description": "",
            "_model_name": "HTMLModel",
            "placeholder": "​",
            "_view_module": "@jupyter-widgets/controls",
            "_model_module_version": "1.5.0",
            "value": " 15000/15000 [00:07&lt;00:00, 1987.64it/s]",
            "_view_count": null,
            "_view_module_version": "1.5.0",
            "description_tooltip": null,
            "_model_module": "@jupyter-widgets/controls",
            "layout": "IPY_MODEL_feaacf7a6a6f4c46ba13f4ac875a9c4c"
          }
        },
        "f515665f0e91482b832775573df10213": {
          "model_module": "@jupyter-widgets/controls",
          "model_name": "ProgressStyleModel",
          "state": {
            "_view_name": "StyleView",
            "_model_name": "ProgressStyleModel",
            "description_width": "initial",
            "_view_module": "@jupyter-widgets/base",
            "_model_module_version": "1.5.0",
            "_view_count": null,
            "_view_module_version": "1.2.0",
            "bar_color": null,
            "_model_module": "@jupyter-widgets/controls"
          }
        },
        "9e04cfa637e64d45a69b968178c31088": {
          "model_module": "@jupyter-widgets/base",
          "model_name": "LayoutModel",
          "state": {
            "_view_name": "LayoutView",
            "grid_template_rows": null,
            "right": null,
            "justify_content": null,
            "_view_module": "@jupyter-widgets/base",
            "overflow": null,
            "_model_module_version": "1.2.0",
            "_view_count": null,
            "flex_flow": null,
            "width": null,
            "min_width": null,
            "border": null,
            "align_items": null,
            "bottom": null,
            "_model_module": "@jupyter-widgets/base",
            "top": null,
            "grid_column": null,
            "overflow_y": null,
            "overflow_x": null,
            "grid_auto_flow": null,
            "grid_area": null,
            "grid_template_columns": null,
            "flex": null,
            "_model_name": "LayoutModel",
            "justify_items": null,
            "grid_row": null,
            "max_height": null,
            "align_content": null,
            "visibility": null,
            "align_self": null,
            "height": null,
            "min_height": null,
            "padding": null,
            "grid_auto_rows": null,
            "grid_gap": null,
            "max_width": null,
            "order": null,
            "_view_module_version": "1.2.0",
            "grid_template_areas": null,
            "object_position": null,
            "object_fit": null,
            "grid_auto_columns": null,
            "margin": null,
            "display": null,
            "left": null
          }
        },
        "c313f1aa4fe642ebb5339f888d33e71b": {
          "model_module": "@jupyter-widgets/controls",
          "model_name": "DescriptionStyleModel",
          "state": {
            "_view_name": "StyleView",
            "_model_name": "DescriptionStyleModel",
            "description_width": "",
            "_view_module": "@jupyter-widgets/base",
            "_model_module_version": "1.5.0",
            "_view_count": null,
            "_view_module_version": "1.2.0",
            "_model_module": "@jupyter-widgets/controls"
          }
        },
        "feaacf7a6a6f4c46ba13f4ac875a9c4c": {
          "model_module": "@jupyter-widgets/base",
          "model_name": "LayoutModel",
          "state": {
            "_view_name": "LayoutView",
            "grid_template_rows": null,
            "right": null,
            "justify_content": null,
            "_view_module": "@jupyter-widgets/base",
            "overflow": null,
            "_model_module_version": "1.2.0",
            "_view_count": null,
            "flex_flow": null,
            "width": null,
            "min_width": null,
            "border": null,
            "align_items": null,
            "bottom": null,
            "_model_module": "@jupyter-widgets/base",
            "top": null,
            "grid_column": null,
            "overflow_y": null,
            "overflow_x": null,
            "grid_auto_flow": null,
            "grid_area": null,
            "grid_template_columns": null,
            "flex": null,
            "_model_name": "LayoutModel",
            "justify_items": null,
            "grid_row": null,
            "max_height": null,
            "align_content": null,
            "visibility": null,
            "align_self": null,
            "height": null,
            "min_height": null,
            "padding": null,
            "grid_auto_rows": null,
            "grid_gap": null,
            "max_width": null,
            "order": null,
            "_view_module_version": "1.2.0",
            "grid_template_areas": null,
            "object_position": null,
            "object_fit": null,
            "grid_auto_columns": null,
            "margin": null,
            "display": null,
            "left": null
          }
        },
        "c5d565e3fbf841fd9bbb47e5f6501d3c": {
          "model_module": "@jupyter-widgets/controls",
          "model_name": "HBoxModel",
          "state": {
            "_view_name": "HBoxView",
            "_dom_classes": [],
            "_model_name": "HBoxModel",
            "_view_module": "@jupyter-widgets/controls",
            "_model_module_version": "1.5.0",
            "_view_count": null,
            "_view_module_version": "1.5.0",
            "box_style": "",
            "layout": "IPY_MODEL_7dc08d80d7a14bdbb215d5b310f6e9f6",
            "_model_module": "@jupyter-widgets/controls",
            "children": [
              "IPY_MODEL_ea2ab6eb9bdb43a485f3a515cc3251db",
              "IPY_MODEL_ce46d8212dfb4daab24490272a866ea4"
            ]
          }
        },
        "7dc08d80d7a14bdbb215d5b310f6e9f6": {
          "model_module": "@jupyter-widgets/base",
          "model_name": "LayoutModel",
          "state": {
            "_view_name": "LayoutView",
            "grid_template_rows": null,
            "right": null,
            "justify_content": null,
            "_view_module": "@jupyter-widgets/base",
            "overflow": null,
            "_model_module_version": "1.2.0",
            "_view_count": null,
            "flex_flow": null,
            "width": null,
            "min_width": null,
            "border": null,
            "align_items": null,
            "bottom": null,
            "_model_module": "@jupyter-widgets/base",
            "top": null,
            "grid_column": null,
            "overflow_y": null,
            "overflow_x": null,
            "grid_auto_flow": null,
            "grid_area": null,
            "grid_template_columns": null,
            "flex": null,
            "_model_name": "LayoutModel",
            "justify_items": null,
            "grid_row": null,
            "max_height": null,
            "align_content": null,
            "visibility": null,
            "align_self": null,
            "height": null,
            "min_height": null,
            "padding": null,
            "grid_auto_rows": null,
            "grid_gap": null,
            "max_width": null,
            "order": null,
            "_view_module_version": "1.2.0",
            "grid_template_areas": null,
            "object_position": null,
            "object_fit": null,
            "grid_auto_columns": null,
            "margin": null,
            "display": null,
            "left": null
          }
        },
        "ea2ab6eb9bdb43a485f3a515cc3251db": {
          "model_module": "@jupyter-widgets/controls",
          "model_name": "FloatProgressModel",
          "state": {
            "_view_name": "ProgressView",
            "style": "IPY_MODEL_6c8a109ffd04493bac5086fcb5646180",
            "_dom_classes": [],
            "description": "100%",
            "_model_name": "FloatProgressModel",
            "bar_style": "success",
            "max": 3000,
            "_view_module": "@jupyter-widgets/controls",
            "_model_module_version": "1.5.0",
            "value": 3000,
            "_view_count": null,
            "_view_module_version": "1.5.0",
            "orientation": "horizontal",
            "min": 0,
            "description_tooltip": null,
            "_model_module": "@jupyter-widgets/controls",
            "layout": "IPY_MODEL_64958570e8594f9cb02b72f112ed3290"
          }
        },
        "ce46d8212dfb4daab24490272a866ea4": {
          "model_module": "@jupyter-widgets/controls",
          "model_name": "HTMLModel",
          "state": {
            "_view_name": "HTMLView",
            "style": "IPY_MODEL_fb2ccd1ef419453ca3290df58c5f5123",
            "_dom_classes": [],
            "description": "",
            "_model_name": "HTMLModel",
            "placeholder": "​",
            "_view_module": "@jupyter-widgets/controls",
            "_model_module_version": "1.5.0",
            "value": " 3000/3000 [00:06&lt;00:00, 449.67it/s]",
            "_view_count": null,
            "_view_module_version": "1.5.0",
            "description_tooltip": null,
            "_model_module": "@jupyter-widgets/controls",
            "layout": "IPY_MODEL_73317fdc88c14cb5b45532c07d0c4614"
          }
        },
        "6c8a109ffd04493bac5086fcb5646180": {
          "model_module": "@jupyter-widgets/controls",
          "model_name": "ProgressStyleModel",
          "state": {
            "_view_name": "StyleView",
            "_model_name": "ProgressStyleModel",
            "description_width": "initial",
            "_view_module": "@jupyter-widgets/base",
            "_model_module_version": "1.5.0",
            "_view_count": null,
            "_view_module_version": "1.2.0",
            "bar_color": null,
            "_model_module": "@jupyter-widgets/controls"
          }
        },
        "64958570e8594f9cb02b72f112ed3290": {
          "model_module": "@jupyter-widgets/base",
          "model_name": "LayoutModel",
          "state": {
            "_view_name": "LayoutView",
            "grid_template_rows": null,
            "right": null,
            "justify_content": null,
            "_view_module": "@jupyter-widgets/base",
            "overflow": null,
            "_model_module_version": "1.2.0",
            "_view_count": null,
            "flex_flow": null,
            "width": null,
            "min_width": null,
            "border": null,
            "align_items": null,
            "bottom": null,
            "_model_module": "@jupyter-widgets/base",
            "top": null,
            "grid_column": null,
            "overflow_y": null,
            "overflow_x": null,
            "grid_auto_flow": null,
            "grid_area": null,
            "grid_template_columns": null,
            "flex": null,
            "_model_name": "LayoutModel",
            "justify_items": null,
            "grid_row": null,
            "max_height": null,
            "align_content": null,
            "visibility": null,
            "align_self": null,
            "height": null,
            "min_height": null,
            "padding": null,
            "grid_auto_rows": null,
            "grid_gap": null,
            "max_width": null,
            "order": null,
            "_view_module_version": "1.2.0",
            "grid_template_areas": null,
            "object_position": null,
            "object_fit": null,
            "grid_auto_columns": null,
            "margin": null,
            "display": null,
            "left": null
          }
        },
        "fb2ccd1ef419453ca3290df58c5f5123": {
          "model_module": "@jupyter-widgets/controls",
          "model_name": "DescriptionStyleModel",
          "state": {
            "_view_name": "StyleView",
            "_model_name": "DescriptionStyleModel",
            "description_width": "",
            "_view_module": "@jupyter-widgets/base",
            "_model_module_version": "1.5.0",
            "_view_count": null,
            "_view_module_version": "1.2.0",
            "_model_module": "@jupyter-widgets/controls"
          }
        },
        "73317fdc88c14cb5b45532c07d0c4614": {
          "model_module": "@jupyter-widgets/base",
          "model_name": "LayoutModel",
          "state": {
            "_view_name": "LayoutView",
            "grid_template_rows": null,
            "right": null,
            "justify_content": null,
            "_view_module": "@jupyter-widgets/base",
            "overflow": null,
            "_model_module_version": "1.2.0",
            "_view_count": null,
            "flex_flow": null,
            "width": null,
            "min_width": null,
            "border": null,
            "align_items": null,
            "bottom": null,
            "_model_module": "@jupyter-widgets/base",
            "top": null,
            "grid_column": null,
            "overflow_y": null,
            "overflow_x": null,
            "grid_auto_flow": null,
            "grid_area": null,
            "grid_template_columns": null,
            "flex": null,
            "_model_name": "LayoutModel",
            "justify_items": null,
            "grid_row": null,
            "max_height": null,
            "align_content": null,
            "visibility": null,
            "align_self": null,
            "height": null,
            "min_height": null,
            "padding": null,
            "grid_auto_rows": null,
            "grid_gap": null,
            "max_width": null,
            "order": null,
            "_view_module_version": "1.2.0",
            "grid_template_areas": null,
            "object_position": null,
            "object_fit": null,
            "grid_auto_columns": null,
            "margin": null,
            "display": null,
            "left": null
          }
        }
      }
    }
  },
  "cells": [
    {
      "cell_type": "code",
      "metadata": {
        "colab": {
          "base_uri": "https://localhost:8080/"
        },
        "id": "4Cgkm4LlMZZ-",
        "outputId": "25c321e6-0232-4838-9a5d-1ab150adc5ee"
      },
      "source": [
        "!pip install sentencepiece \n",
        "\n",
        "!pip install smart_open \n",
        "!pip install gensim\n",
        "!pip install numpy \n",
        "\n",
        "!pip install tqdm \n",
        "\n",
        "!pip install pymorphy2"
      ],
      "execution_count": 2,
      "outputs": [
        {
          "output_type": "stream",
          "text": [
            "Collecting sentencepiece\n",
            "\u001b[?25l  Downloading https://files.pythonhosted.org/packages/e5/2d/6d4ca4bef9a67070fa1cac508606328329152b1df10bdf31fb6e4e727894/sentencepiece-0.1.94-cp36-cp36m-manylinux2014_x86_64.whl (1.1MB)\n",
            "\u001b[K     |████████████████████████████████| 1.1MB 9.1MB/s \n",
            "\u001b[?25hInstalling collected packages: sentencepiece\n",
            "Successfully installed sentencepiece-0.1.94\n",
            "Requirement already satisfied: smart_open in /usr/local/lib/python3.6/dist-packages (4.0.1)\n",
            "Requirement already satisfied: gensim in /usr/local/lib/python3.6/dist-packages (3.6.0)\n",
            "Requirement already satisfied: numpy>=1.11.3 in /usr/local/lib/python3.6/dist-packages (from gensim) (1.18.5)\n",
            "Requirement already satisfied: smart-open>=1.2.1 in /usr/local/lib/python3.6/dist-packages (from gensim) (4.0.1)\n",
            "Requirement already satisfied: six>=1.5.0 in /usr/local/lib/python3.6/dist-packages (from gensim) (1.15.0)\n",
            "Requirement already satisfied: scipy>=0.18.1 in /usr/local/lib/python3.6/dist-packages (from gensim) (1.4.1)\n",
            "Requirement already satisfied: numpy in /usr/local/lib/python3.6/dist-packages (1.18.5)\n",
            "Requirement already satisfied: tqdm in /usr/local/lib/python3.6/dist-packages (4.41.1)\n",
            "Collecting pymorphy2\n",
            "\u001b[?25l  Downloading https://files.pythonhosted.org/packages/07/57/b2ff2fae3376d4f3c697b9886b64a54b476e1a332c67eee9f88e7f1ae8c9/pymorphy2-0.9.1-py3-none-any.whl (55kB)\n",
            "\u001b[K     |████████████████████████████████| 61kB 5.0MB/s \n",
            "\u001b[?25hCollecting dawg-python>=0.7.1\n",
            "  Downloading https://files.pythonhosted.org/packages/6a/84/ff1ce2071d4c650ec85745766c0047ccc3b5036f1d03559fd46bb38b5eeb/DAWG_Python-0.7.2-py2.py3-none-any.whl\n",
            "Requirement already satisfied: docopt>=0.6 in /usr/local/lib/python3.6/dist-packages (from pymorphy2) (0.6.2)\n",
            "Collecting pymorphy2-dicts-ru<3.0,>=2.4\n",
            "\u001b[?25l  Downloading https://files.pythonhosted.org/packages/3a/79/bea0021eeb7eeefde22ef9e96badf174068a2dd20264b9a378f2be1cdd9e/pymorphy2_dicts_ru-2.4.417127.4579844-py2.py3-none-any.whl (8.2MB)\n",
            "\u001b[K     |████████████████████████████████| 8.2MB 8.2MB/s \n",
            "\u001b[?25hInstalling collected packages: dawg-python, pymorphy2-dicts-ru, pymorphy2\n",
            "Successfully installed dawg-python-0.7.2 pymorphy2-0.9.1 pymorphy2-dicts-ru-2.4.417127.4579844\n"
          ],
          "name": "stdout"
        }
      ]
    },
    {
      "cell_type": "markdown",
      "metadata": {
        "id": "0Z4sY6QZOPPO"
      },
      "source": [
        "Обработка данных"
      ]
    },
    {
      "cell_type": "code",
      "metadata": {
        "id": "kWUhQO4UNIyE"
      },
      "source": [
        "import re\n",
        "import sentencepiece as spm\n",
        "\n",
        "import smart_open as sm\n",
        "import gensim\n",
        "import numpy as np\n",
        "\n",
        "from tqdm.notebook import tqdm\n",
        "\n",
        "import pymorphy2"
      ],
      "execution_count": 3,
      "outputs": []
    },
    {
      "cell_type": "code",
      "metadata": {
        "id": "1flrNw76MhW4"
      },
      "source": [
        "def read_data(path):\n",
        "    with open(path, \"r\") as f:\n",
        "        for line in f:\n",
        "            cat, headline, text = line.strip().split(\"\\t\")\n",
        "            yield cat, headline, text\n",
        "\n",
        "def tokenize_text(text):\n",
        "    text = text.lower()\n",
        "    words = re.findall(r'\\b\\w+\\b', text.lower())\n",
        "    return words\n",
        "\n",
        "def prepare_data(path):\n",
        "    data = []\n",
        "    for cat, headline, text in read_data(path):\n",
        "        item = {}\n",
        "        item[\"cat\"] = cat\n",
        "        item[\"headline\"] = tokenize_text(headline)\n",
        "        item[\"text\"] = [tokenize_text(sentance) for sentance in re.split(r\"[.!?]\", text) if len(sentance) > 20]\n",
        "        data.append(item)\n",
        "    return data"
      ],
      "execution_count": 4,
      "outputs": []
    },
    {
      "cell_type": "code",
      "metadata": {
        "colab": {
          "base_uri": "https://localhost:8080/"
        },
        "id": "svJxzsipSCuD",
        "outputId": "1be3e0ca-13c2-4126-c779-c3ba290f8e1a"
      },
      "source": [
        "data_train = prepare_data(\"news_train.txt\")\n",
        "data_test = prepare_data(\"news_test.txt\")\n",
        "data_train[0]"
      ],
      "execution_count": 5,
      "outputs": [
        {
          "output_type": "execute_result",
          "data": {
            "text/plain": [
              "{'cat': 'sport',\n",
              " 'headline': ['овечкин',\n",
              "  'пожертвовал',\n",
              "  'детской',\n",
              "  'хоккейной',\n",
              "  'школе',\n",
              "  'автомобиль'],\n",
              " 'text': [['нападающий',\n",
              "   'вашингтон',\n",
              "   'кэпиталз',\n",
              "   'александр',\n",
              "   'овечкин',\n",
              "   'передал',\n",
              "   'детской',\n",
              "   'хоккейной',\n",
              "   'школе',\n",
              "   'автомобиль',\n",
              "   'полученный',\n",
              "   'им',\n",
              "   'после',\n",
              "   'окончания',\n",
              "   'матча',\n",
              "   'всех',\n",
              "   'звезд',\n",
              "   'национальной',\n",
              "   'хоккейной',\n",
              "   'лиги',\n",
              "   'нхл'],\n",
              "  ['об', 'этом', 'сообщается', 'на', 'официальном', 'сайте', 'лиги'],\n",
              "  ['автомобиль',\n",
              "   'honda',\n",
              "   'accord',\n",
              "   'был',\n",
              "   'подарен',\n",
              "   'хоккеисту',\n",
              "   'по',\n",
              "   'решению',\n",
              "   'спонсоров',\n",
              "   'мероприятия'],\n",
              "  ['игрок',\n",
              "   'нхл',\n",
              "   'пожертвовал',\n",
              "   'машину',\n",
              "   'спортивной',\n",
              "   'школе',\n",
              "   'nova',\n",
              "   'cool',\n",
              "   'cats',\n",
              "   'special',\n",
              "   'hockey',\n",
              "   'inc'],\n",
              "  ['которая', 'расположена', 'в', 'штате', 'вирджиния'],\n",
              "  ['овечкин',\n",
              "   'общается',\n",
              "   'с',\n",
              "   '10',\n",
              "   'летней',\n",
              "   'девочкой',\n",
              "   'анной',\n",
              "   'шоб',\n",
              "   'с',\n",
              "   'синдромом',\n",
              "   'дауна',\n",
              "   'которая',\n",
              "   'занимается',\n",
              "   'в',\n",
              "   'этой',\n",
              "   'школе',\n",
              "   'и',\n",
              "   'является',\n",
              "   'поклонницей',\n",
              "   'спортсмена'],\n",
              "  ['в',\n",
              "   'сентябре',\n",
              "   'форвард',\n",
              "   'пообедал',\n",
              "   'вместе',\n",
              "   'с',\n",
              "   'юной',\n",
              "   'хоккеисткой',\n",
              "   'в',\n",
              "   'японском',\n",
              "   'ресторане'],\n",
              "  ['матч',\n",
              "   'всех',\n",
              "   'звезд',\n",
              "   'нхл',\n",
              "   'в',\n",
              "   'коламбусе',\n",
              "   'штат',\n",
              "   'огайо',\n",
              "   'завершился',\n",
              "   'победой',\n",
              "   'команды',\n",
              "   'джонатана',\n",
              "   'тэйвза',\n",
              "   'над',\n",
              "   'командой',\n",
              "   'ника',\n",
              "   'фолиньо',\n",
              "   'со',\n",
              "   'счетом',\n",
              "   '17',\n",
              "   '12'],\n",
              "  ['овечкин', 'выступал', 'за', 'проигравший', 'коллектив'],\n",
              "  ['россиянин', 'отметился', 'тремя', 'результативными', 'передачами']]}"
            ]
          },
          "metadata": {
            "tags": []
          },
          "execution_count": 5
        }
      ]
    },
    {
      "cell_type": "code",
      "metadata": {
        "colab": {
          "base_uri": "https://localhost:8080/",
          "height": 1000,
          "referenced_widgets": [
            "a7ab279b55db4f3aa3e09238305d8bde",
            "b7a29f8b10cd4c0187cbe6a919d843a6",
            "83b6e787d5a54e5aa2b101b130e6c4a3",
            "d753da7a30d34ee1a2b8dc422c772e96",
            "0a2a556e6910442eb0ee32ab786ee589",
            "a13454b13c664da2858d784eb16c0f57",
            "417783391b64441b8900794983c7a9d6",
            "67aa2d3b4f60405f98490f21778df88d",
            "47c84ebcc7914973aef0f452aa0191d8",
            "2149f18b09f14283838323afbb603659",
            "30ce60c99ce048c3aa21e9ecbe5b730d",
            "7169499b7d9743dcba95c32d1aa59fa1",
            "6f162fab4aff43ce9006834cb0c6baa7",
            "2ff763015a524e64bed50c5ed027d17d",
            "dd68485b8d834a9db4b925abe7260832",
            "86f0585a49c642a2a1117277b028199d"
          ]
        },
        "id": "di8CRi4wSU7T",
        "outputId": "888d16bc-cb9f-490e-b28c-43e7ce5915de"
      },
      "source": [
        "def postprocess_tokens_(data):\n",
        "    morph = pymorphy2.MorphAnalyzer()\n",
        "    for item in tqdm(data):\n",
        "        item[\"headline\"] = [morph.parse(word)[0].normal_form for word in item[\"headline\"]] \n",
        "        item[\"text\"] = [[morph.parse(word)[0].normal_form for word in sentance] for sentance in item[\"text\"]] \n",
        "\n",
        "postprocess_tokens_(data_train)\n",
        "postprocess_tokens_(data_test)\n",
        "\n",
        "data_train[0]"
      ],
      "execution_count": 6,
      "outputs": [
        {
          "output_type": "display_data",
          "data": {
            "application/vnd.jupyter.widget-view+json": {
              "model_id": "a7ab279b55db4f3aa3e09238305d8bde",
              "version_minor": 0,
              "version_major": 2
            },
            "text/plain": [
              "HBox(children=(FloatProgress(value=0.0, max=15000.0), HTML(value='')))"
            ]
          },
          "metadata": {
            "tags": []
          }
        },
        {
          "output_type": "stream",
          "text": [
            "\n"
          ],
          "name": "stdout"
        },
        {
          "output_type": "display_data",
          "data": {
            "application/vnd.jupyter.widget-view+json": {
              "model_id": "47c84ebcc7914973aef0f452aa0191d8",
              "version_minor": 0,
              "version_major": 2
            },
            "text/plain": [
              "HBox(children=(FloatProgress(value=0.0, max=3000.0), HTML(value='')))"
            ]
          },
          "metadata": {
            "tags": []
          }
        },
        {
          "output_type": "stream",
          "text": [
            "\n"
          ],
          "name": "stdout"
        },
        {
          "output_type": "execute_result",
          "data": {
            "text/plain": [
              "{'cat': 'sport',\n",
              " 'headline': ['овечкин',\n",
              "  'пожертвовать',\n",
              "  'детский',\n",
              "  'хоккейный',\n",
              "  'школа',\n",
              "  'автомобиль'],\n",
              " 'text': [['нападать',\n",
              "   'вашингтон',\n",
              "   'кэпиталзти',\n",
              "   'александр',\n",
              "   'овечкин',\n",
              "   'передать',\n",
              "   'детский',\n",
              "   'хоккейный',\n",
              "   'школа',\n",
              "   'автомобиль',\n",
              "   'получить',\n",
              "   'они',\n",
              "   'после',\n",
              "   'окончание',\n",
              "   'матч',\n",
              "   'весь',\n",
              "   'звезда',\n",
              "   'национальный',\n",
              "   'хоккейный',\n",
              "   'лига',\n",
              "   'нхл'],\n",
              "  ['о', 'это', 'сообщаться', 'на', 'официальный', 'сайт', 'лига'],\n",
              "  ['автомобиль',\n",
              "   'honda',\n",
              "   'accord',\n",
              "   'быть',\n",
              "   'подарить',\n",
              "   'хоккеист',\n",
              "   'по',\n",
              "   'решение',\n",
              "   'спонсор',\n",
              "   'мероприятие'],\n",
              "  ['игрок',\n",
              "   'нхл',\n",
              "   'пожертвовать',\n",
              "   'машина',\n",
              "   'спортивный',\n",
              "   'школа',\n",
              "   'nova',\n",
              "   'cool',\n",
              "   'cats',\n",
              "   'special',\n",
              "   'hockey',\n",
              "   'inc'],\n",
              "  ['который', 'расположить', 'в', 'штат', 'вирджиния'],\n",
              "  ['овечкин',\n",
              "   'общаться',\n",
              "   'с',\n",
              "   '10',\n",
              "   'летний',\n",
              "   'девочка',\n",
              "   'анна',\n",
              "   'чтоб',\n",
              "   'с',\n",
              "   'синдром',\n",
              "   'даун',\n",
              "   'который',\n",
              "   'заниматься',\n",
              "   'в',\n",
              "   'этот',\n",
              "   'школа',\n",
              "   'и',\n",
              "   'являться',\n",
              "   'поклонница',\n",
              "   'спортсмен'],\n",
              "  ['в',\n",
              "   'сентябрь',\n",
              "   'форвард',\n",
              "   'пообедать',\n",
              "   'вместе',\n",
              "   'с',\n",
              "   'юный',\n",
              "   'хоккеистка',\n",
              "   'в',\n",
              "   'японский',\n",
              "   'ресторан'],\n",
              "  ['матч',\n",
              "   'весь',\n",
              "   'звезда',\n",
              "   'нхл',\n",
              "   'в',\n",
              "   'коламбус',\n",
              "   'штат',\n",
              "   'огайо',\n",
              "   'завершиться',\n",
              "   'победа',\n",
              "   'команда',\n",
              "   'джонатан',\n",
              "   'тэйвз',\n",
              "   'над',\n",
              "   'команда',\n",
              "   'ник',\n",
              "   'фолиньо',\n",
              "   'с',\n",
              "   'счёт',\n",
              "   '17',\n",
              "   '12'],\n",
              "  ['овечкин', 'выступать', 'за', 'проиграть', 'коллектив'],\n",
              "  ['россиянин', 'отметиться', 'три', 'результативный', 'передача']]}"
            ]
          },
          "metadata": {
            "tags": []
          },
          "execution_count": 6
        }
      ]
    },
    {
      "cell_type": "code",
      "metadata": {
        "id": "fVRiTfM3XKmM",
        "colab": {
          "base_uri": "https://localhost:8080/"
        },
        "outputId": "828f529f-dec6-4de7-ccff-89abd4cf941e"
      },
      "source": [
        "from gensim.models import Word2Vec\n",
        "\n",
        "w2v_model = Word2Vec(\n",
        "    min_count=10,\n",
        "    window=2,\n",
        "    size=300,\n",
        "    negative=10,\n",
        "    alpha=0.03,\n",
        "    min_alpha=0.0007,\n",
        "    sample=6e-5,\n",
        "    sg=1)\n",
        "\n",
        "sentences = [item[\"headline\"] for item in data_train]\n",
        "sentences.extend([sentance for item in data_train for sentance in item[\"text\"]])\n",
        "\n",
        "w2v_model.build_vocab(sentences)\n",
        "w2v_model.train(sentences, total_examples=w2v_model.corpus_count, epochs=30, report_delay=1)"
      ],
      "execution_count": 7,
      "outputs": [
        {
          "output_type": "execute_result",
          "data": {
            "text/plain": [
              "(48635425, 91978410)"
            ]
          },
          "metadata": {
            "tags": []
          },
          "execution_count": 7
        }
      ]
    },
    {
      "cell_type": "code",
      "metadata": {
        "colab": {
          "base_uri": "https://localhost:8080/"
        },
        "id": "xzQ0wV87-htT",
        "outputId": "22ae5712-449f-4a4f-b92e-235eda36f409"
      },
      "source": [
        "print(w2v_model.wv.most_similar('октябрь'))"
      ],
      "execution_count": 8,
      "outputs": [
        {
          "output_type": "stream",
          "text": [
            "[('сентябрь', 0.7763291597366333), ('июль', 0.7640365362167358), ('декабрь', 0.7628675103187561), ('май', 0.7626175284385681), ('март', 0.7562806606292725), ('ноябрь', 0.7526770830154419), ('апрель', 0.7513618469238281), ('январь', 0.7410556077957153), ('август', 0.7205405235290527), ('февраль', 0.7161135673522949)]\n"
          ],
          "name": "stdout"
        },
        {
          "output_type": "stream",
          "text": [
            "/usr/local/lib/python3.6/dist-packages/gensim/matutils.py:737: FutureWarning: Conversion of the second argument of issubdtype from `int` to `np.signedinteger` is deprecated. In future, it will be treated as `np.int64 == np.dtype(int).type`.\n",
            "  if np.issubdtype(vec.dtype, np.int):\n"
          ],
          "name": "stderr"
        }
      ]
    },
    {
      "cell_type": "code",
      "metadata": {
        "colab": {
          "base_uri": "https://localhost:8080/",
          "height": 115,
          "referenced_widgets": [
            "9c1c7635328049ebb648701f5f1312a6",
            "656c389209024f408a4df17b67f6d8e2",
            "f95720aaa1364bc8aae58fcfa4f9e947",
            "0c93825061474b4093f5204375e98d26",
            "f515665f0e91482b832775573df10213",
            "9e04cfa637e64d45a69b968178c31088",
            "c313f1aa4fe642ebb5339f888d33e71b",
            "feaacf7a6a6f4c46ba13f4ac875a9c4c",
            "c5d565e3fbf841fd9bbb47e5f6501d3c",
            "7dc08d80d7a14bdbb215d5b310f6e9f6",
            "ea2ab6eb9bdb43a485f3a515cc3251db",
            "ce46d8212dfb4daab24490272a866ea4",
            "6c8a109ffd04493bac5086fcb5646180",
            "64958570e8594f9cb02b72f112ed3290",
            "fb2ccd1ef419453ca3290df58c5f5123",
            "73317fdc88c14cb5b45532c07d0c4614"
          ]
        },
        "id": "yutsApGaDe8A",
        "outputId": "963fa70d-6b15-49fa-a2f0-1e5bb9e66d6d"
      },
      "source": [
        "max_item_len = 140\n",
        "label2idx = {}\n",
        "def prepere_tfidf(data):\n",
        "    X = []\n",
        "    y = []\n",
        "\n",
        "    for item in tqdm(data):\n",
        "        label = item[\"cat\"]\n",
        "        headline = item[\"headline\"]\n",
        "        text = item[\"text\"]\n",
        "\n",
        "        label_idx = label2idx.get(label, len(label2idx))\n",
        "        label2idx[label] = label_idx\n",
        "\n",
        "        word_idx = 0\n",
        "        sent_idx = 0\n",
        "        pos_in_sent = 0\n",
        "\n",
        "        x = []\n",
        "\n",
        "        while word_idx < max_item_len:\n",
        "            if word_idx < len(headline):\n",
        "                x.append(headline[word_idx])\n",
        "                word_idx += 1\n",
        "            else:\n",
        "                if pos_in_sent < len(text[sent_idx]):\n",
        "                    x.append(text[sent_idx][pos_in_sent])\n",
        "                    word_idx += 1\n",
        "                    pos_in_sent += 1\n",
        "                elif sent_idx < len(text) - 1:\n",
        "                    sent_idx += 1\n",
        "                    pos_in_sent = 0\n",
        "                else:\n",
        "                    x.append(\"PLACEHOLDER\")\n",
        "                    word_idx += 1\n",
        "\n",
        "        X.append(\" \".join(x))\n",
        "        y.append(label_idx)\n",
        "    \n",
        "    return X, y\n",
        "\n",
        "X_train_idf, y_train = prepere_tfidf(data_train)\n",
        "X_test_idf, y_test = prepere_tfidf(data_test)"
      ],
      "execution_count": 11,
      "outputs": [
        {
          "output_type": "display_data",
          "data": {
            "application/vnd.jupyter.widget-view+json": {
              "model_id": "9c1c7635328049ebb648701f5f1312a6",
              "version_minor": 0,
              "version_major": 2
            },
            "text/plain": [
              "HBox(children=(FloatProgress(value=0.0, max=15000.0), HTML(value='')))"
            ]
          },
          "metadata": {
            "tags": []
          }
        },
        {
          "output_type": "stream",
          "text": [
            "\n"
          ],
          "name": "stdout"
        },
        {
          "output_type": "display_data",
          "data": {
            "application/vnd.jupyter.widget-view+json": {
              "model_id": "c5d565e3fbf841fd9bbb47e5f6501d3c",
              "version_minor": 0,
              "version_major": 2
            },
            "text/plain": [
              "HBox(children=(FloatProgress(value=0.0, max=3000.0), HTML(value='')))"
            ]
          },
          "metadata": {
            "tags": []
          }
        },
        {
          "output_type": "stream",
          "text": [
            "\n"
          ],
          "name": "stdout"
        }
      ]
    },
    {
      "cell_type": "code",
      "metadata": {
        "id": "bfb6aIbHo-jG"
      },
      "source": [
        "from sklearn.feature_extraction.text import TfidfVectorizer\n",
        "\n",
        "tfidf = TfidfVectorizer()\n",
        "X_train_idf = tfidf.fit_transform(X_train_idf)\n",
        "X_test_idf = tfidf.transform(X_test_idf)"
      ],
      "execution_count": 12,
      "outputs": []
    },
    {
      "cell_type": "code",
      "metadata": {
        "colab": {
          "base_uri": "https://localhost:8080/"
        },
        "id": "y7MR6K9HpDUJ",
        "outputId": "62352916-30e9-4187-97c4-2f598229e006"
      },
      "source": [
        "from sklearn.linear_model import LogisticRegression\n",
        "\n",
        "clf = LogisticRegression(n_jobs=-1)\n",
        "clf.fit(X_train_idf, y_train)\n",
        "preds = clf.predict(X_test_idf)\n",
        "print(f\"accuracy = {(y_test == preds).mean()}\")"
      ],
      "execution_count": 13,
      "outputs": [
        {
          "output_type": "stream",
          "text": [
            "accuracy = 0.8593333333333333\n"
          ],
          "name": "stdout"
        }
      ]
    },
    {
      "cell_type": "code",
      "metadata": {
        "colab": {
          "base_uri": "https://localhost:8080/"
        },
        "id": "xOQrMKjc7fm2",
        "outputId": "e551bd40-2267-4ad4-9c57-91fa32ca6837"
      },
      "source": [
        "from sklearn.model_selection import GridSearchCV\n",
        "\n",
        "hyper = {'C' : [1, 4, 10, 100], 'solver': ['lbfgs']}\n",
        "gd = GridSearchCV(estimator=\n",
        "                LogisticRegression(multi_class='multinomial', random_state=17, n_jobs=4),\n",
        "                param_grid=hyper)\n",
        "gd.fit(X_train_idf, y_train)\n",
        "print(gd.best_score_)\n",
        "print(gd.best_estimator_)"
      ],
      "execution_count": 16,
      "outputs": [
        {
          "output_type": "stream",
          "text": [
            "0.8648\n",
            "LogisticRegression(C=100, class_weight=None, dual=False, fit_intercept=True,\n",
            "                   intercept_scaling=1, l1_ratio=None, max_iter=100,\n",
            "                   multi_class='multinomial', n_jobs=4, penalty='l2',\n",
            "                   random_state=17, solver='lbfgs', tol=0.0001, verbose=0,\n",
            "                   warm_start=False)\n"
          ],
          "name": "stdout"
        }
      ]
    },
    {
      "cell_type": "code",
      "metadata": {
        "colab": {
          "base_uri": "https://localhost:8080/"
        },
        "id": "67KWtIVu9PQF",
        "outputId": "42f6e172-bde1-4c71-c88c-50768c890911"
      },
      "source": [
        "clf_lr = gd.best_estimator_\n",
        "clf_lr.fit(X_train_idf, y_train)\n",
        "preds = clf_lr.predict(X_test_idf)\n",
        "print(f\"accuracy = {(y_test == preds).mean()}\")"
      ],
      "execution_count": 18,
      "outputs": [
        {
          "output_type": "stream",
          "text": [
            "accuracy = 0.879\n"
          ],
          "name": "stdout"
        }
      ]
    },
    {
      "cell_type": "code",
      "metadata": {
        "colab": {
          "base_uri": "https://localhost:8080/"
        },
        "id": "6XHbSX-vpGX8",
        "outputId": "9e38422a-de36-4748-d412-a6609b164dcf"
      },
      "source": [
        "from sklearn.naive_bayes import MultinomialNB\n",
        "\n",
        "clf = MultinomialNB()\n",
        "clf.fit(X_train_idf, y_train)\n",
        "preds = clf.predict(X_test_idf)\n",
        "print(f\"accuracy = {(y_test == preds).mean()}\")"
      ],
      "execution_count": 19,
      "outputs": [
        {
          "output_type": "stream",
          "text": [
            "accuracy = 0.7983333333333333\n"
          ],
          "name": "stdout"
        }
      ]
    },
    {
      "cell_type": "code",
      "metadata": {
        "id": "aQPbllMu-HA4"
      },
      "source": [
        ""
      ],
      "execution_count": null,
      "outputs": []
    },
    {
      "cell_type": "code",
      "metadata": {
        "id": "jg5hmKls7eS1"
      },
      "source": [
        ""
      ],
      "execution_count": null,
      "outputs": []
    }
  ]
}
